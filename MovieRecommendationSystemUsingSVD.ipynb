{
  "nbformat": 4,
  "nbformat_minor": 0,
  "metadata": {
    "colab": {
      "provenance": []
    },
    "kernelspec": {
      "name": "python3",
      "display_name": "Python 3"
    }
  },
  "cells": [
    {
      "cell_type": "markdown",
      "metadata": {
        "id": "r3cas2_1T98w"
      },
      "source": [
        "**Movie Recommendation System Using SVD**"
      ]
    },
    {
      "cell_type": "markdown",
      "source": [],
      "metadata": {
        "id": "g5eS_sM7aVSP"
      }
    },
    {
      "cell_type": "markdown",
      "metadata": {
        "id": "IODliia6U1xO"
      },
      "source": [
        "### Importing the basic libraries"
      ]
    },
    {
      "cell_type": "code",
      "metadata": {
        "id": "y98nA5UdU6Hf"
      },
      "source": [
        "import numpy as np\n",
        "import pandas as pd"
      ],
      "execution_count": null,
      "outputs": []
    },
    {
      "cell_type": "markdown",
      "metadata": {
        "id": "jpjZ43YlU8eI"
      },
      "source": [
        "### Importing & Parsing the dataset as ratings and movies details"
      ]
    },
    {
      "cell_type": "code",
      "metadata": {
        "id": "pLVaXoYVU_Uy",
        "colab": {
          "base_uri": "https://localhost:8080/"
        },
        "outputId": "bd7c7f7d-e1c9-4d1b-bcfb-3ac9527ba9b5"
      },
      "source": [
        "\n",
        "# Reading the ratings data\n",
        "ratingData = pd.read_csv('ratings.dat',\n",
        "    names=['user_id', 'movie_id', 'rating', 'timestamp'],\n",
        "    engine='python', delimiter='::', header=None, encoding='latin1')\n",
        "\n",
        "# Reading the movies data\n",
        "movieData = pd.read_csv('movies.dat',\n",
        "    names=['movie_id', 'title', 'genre'],\n",
        "    engine='python', delimiter='::', header=None, encoding='latin1')\n",
        "\n",
        "# Printing the DataFrames\n",
        "print(ratingData)\n",
        "print(movieData)\n",
        "\n"
      ],
      "execution_count": null,
      "outputs": [
        {
          "output_type": "stream",
          "name": "stdout",
          "text": [
            "         user_id  movie_id  rating  timestamp\n",
            "0              1      1193       5  978300760\n",
            "1              1       661       3  978302109\n",
            "2              1       914       3  978301968\n",
            "3              1      3408       4  978300275\n",
            "4              1      2355       5  978824291\n",
            "...          ...       ...     ...        ...\n",
            "1000204     6040      1091       1  956716541\n",
            "1000205     6040      1094       5  956704887\n",
            "1000206     6040       562       5  956704746\n",
            "1000207     6040      1096       4  956715648\n",
            "1000208     6040      1097       4  956715569\n",
            "\n",
            "[1000209 rows x 4 columns]\n",
            "      movie_id                               title  \\\n",
            "0            1                    Toy Story (1995)   \n",
            "1            2                      Jumanji (1995)   \n",
            "2            3             Grumpier Old Men (1995)   \n",
            "3            4            Waiting to Exhale (1995)   \n",
            "4            5  Father of the Bride Part II (1995)   \n",
            "...        ...                                 ...   \n",
            "3878      3948             Meet the Parents (2000)   \n",
            "3879      3949          Requiem for a Dream (2000)   \n",
            "3880      3950                    Tigerland (2000)   \n",
            "3881      3951             Two Family House (2000)   \n",
            "3882      3952               Contender, The (2000)   \n",
            "\n",
            "                             genre  \n",
            "0      Animation|Children's|Comedy  \n",
            "1     Adventure|Children's|Fantasy  \n",
            "2                   Comedy|Romance  \n",
            "3                     Comedy|Drama  \n",
            "4                           Comedy  \n",
            "...                            ...  \n",
            "3878                        Comedy  \n",
            "3879                         Drama  \n",
            "3880                         Drama  \n",
            "3881                         Drama  \n",
            "3882                Drama|Thriller  \n",
            "\n",
            "[3883 rows x 3 columns]\n"
          ]
        }
      ]
    },
    {
      "cell_type": "markdown",
      "metadata": {
        "id": "fLBaNX8cVymm"
      },
      "source": [
        "### Create the ratings matrix of shape (m×u)"
      ]
    },
    {
      "cell_type": "code",
      "metadata": {
        "id": "lBgHJ6c7gDn2",
        "colab": {
          "base_uri": "https://localhost:8080/"
        },
        "outputId": "6a61284e-c9b9-4f7d-c2e0-ffc208bec764"
      },
      "source": [
        "ratingMatrix = np.ndarray(\n",
        "    shape=(np.max(ratingData.movie_id.values), np.max(ratingData.user_id.values)),\n",
        "    dtype=np.uint8)\n",
        "ratingMatrix[ratingData.movie_id.values-1, ratingData.user_id.values-1] = ratingData.rating.values\n",
        "print(ratingMatrix)"
      ],
      "execution_count": null,
      "outputs": [
        {
          "output_type": "stream",
          "name": "stdout",
          "text": [
            "[[  5  84  95 ...   0   0   3]\n",
            " [161   4   0 ...   0   0   0]\n",
            " [203   0   0 ... 127   0   0]\n",
            " ...\n",
            " [  0   0   0 ...   0   0   0]\n",
            " [  0   0   0 ...   0   0   0]\n",
            " [  0   0   0 ...   0   0   0]]\n"
          ]
        }
      ]
    },
    {
      "cell_type": "markdown",
      "metadata": {
        "id": "n90Tb_w9V-vn"
      },
      "source": [
        "### Subtract Mean off - Normalization"
      ]
    },
    {
      "cell_type": "code",
      "metadata": {
        "id": "pm6q3gWXgG_1",
        "colab": {
          "base_uri": "https://localhost:8080/"
        },
        "outputId": "c7a17f3c-f78a-4220-c125-cd179f3b5a40"
      },
      "source": [
        "normalizedMatrix = ratingMatrix - np.asarray([(np.mean(ratingMatrix, 1))]).T\n",
        "print(normalizedMatrix)"
      ],
      "execution_count": null,
      "outputs": [
        {
          "output_type": "stream",
          "name": "stdout",
          "text": [
            "[[-1.80720199e+01  6.09279801e+01  7.19279801e+01 ... -2.30720199e+01\n",
            "  -2.30720199e+01 -2.00720199e+01]\n",
            " [ 1.26374503e+02 -3.06254967e+01 -3.46254967e+01 ... -3.46254967e+01\n",
            "  -3.46254967e+01 -3.46254967e+01]\n",
            " [ 1.72216887e+02 -3.07831126e+01 -3.07831126e+01 ...  9.62168874e+01\n",
            "  -3.07831126e+01 -3.07831126e+01]\n",
            " ...\n",
            " [-3.27814570e-02 -3.27814570e-02 -3.27814570e-02 ... -3.27814570e-02\n",
            "  -3.27814570e-02 -3.27814570e-02]\n",
            " [-2.58278146e-02 -2.58278146e-02 -2.58278146e-02 ... -2.58278146e-02\n",
            "  -2.58278146e-02 -2.58278146e-02]\n",
            " [-2.42880795e-01 -2.42880795e-01 -2.42880795e-01 ... -2.42880795e-01\n",
            "  -2.42880795e-01 -2.42880795e-01]]\n"
          ]
        }
      ]
    },
    {
      "cell_type": "markdown",
      "metadata": {
        "id": "zoIEOorVTzD9"
      },
      "source": [
        "### Computing SVD"
      ]
    },
    {
      "cell_type": "code",
      "metadata": {
        "id": "wOuthXLlT0GI"
      },
      "source": [
        "A = normalizedMatrix.T / np.sqrt(ratingMatrix.shape[0] - 1)\n",
        "U, S, V = np.linalg.svd(A)"
      ],
      "execution_count": null,
      "outputs": []
    },
    {
      "cell_type": "markdown",
      "metadata": {
        "id": "58ZB1rCZUVfH"
      },
      "source": [
        "### Calculate cosine similarity, sort by most similar and return the top N"
      ]
    },
    {
      "cell_type": "code",
      "metadata": {
        "id": "0K7mijvHUW6Z"
      },
      "source": [
        "def similar(ratingData, movie_id, top_n):\n",
        "    index = movie_id - 1 # Movie id starts from 1\n",
        "    movie_row = ratingData[index, :]\n",
        "    magnitude = np.sqrt(np.einsum('ij, ij -> i', ratingData, ratingData)) #Einstein summation |  traditional matrix multiplication and is equivalent to np.matmul(a,b)\n",
        "    similarity = np.dot(movie_row, ratingData.T) / (magnitude[index] * magnitude)\n",
        "    sort_indexes = np.argsort(-similarity) #Perform an indirect sort along the given axis (Last axis)\n",
        "    return sort_indexes[:top_n]"
      ],
      "execution_count": null,
      "outputs": []
    },
    {
      "cell_type": "markdown",
      "metadata": {
        "id": "rTMd_brsUctX"
      },
      "source": [
        "### Select k principal components to represent the movies, a movie_id to find recommendations and print the top_n results"
      ]
    },
    {
      "cell_type": "code",
      "metadata": {
        "id": "PXDHbM4aUdvc",
        "colab": {
          "base_uri": "https://localhost:8080/"
        },
        "outputId": "0fa8b04a-ef70-48c2-c04b-4588e074dbe7"
      },
      "source": [
        "k = 50\n",
        "movie_id = 2\n",
        "top_n = 5\n",
        "\n",
        "sliced = V.T[:, :k] # representative data\n",
        "indexes = similar(sliced, movie_id, top_n)\n",
        "\n",
        "print('Recommendations for Movie {0}: \\n'.format(\n",
        "movieData[movieData.movie_id == movie_id].title.values[0]))\n",
        "for id in indexes + 1:\n",
        "    print(movieData[movieData.movie_id == id].title.values[0])"
      ],
      "execution_count": null,
      "outputs": [
        {
          "output_type": "stream",
          "name": "stdout",
          "text": [
            "Recommendations for Movie Jumanji (1995): \n",
            "\n",
            "Jumanji (1995)\n",
            "Santa Claus: The Movie (1985)\n",
            "Antz (1998)\n",
            "Honey, I Blew Up the Kid (1992)\n",
            "All Dogs Go to Heaven (1989)\n"
          ]
        },
        {
          "output_type": "stream",
          "name": "stderr",
          "text": [
            "<ipython-input-9-a9dc92513cbb>:5: RuntimeWarning: invalid value encountered in divide\n",
            "  similarity = np.dot(movie_row, ratingData.T) / (magnitude[index] * magnitude)\n"
          ]
        }
      ]
    }
  ]
}